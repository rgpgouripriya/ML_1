{
 "cells": [
  {
   "cell_type": "code",
   "execution_count": 48,
   "metadata": {},
   "outputs": [
    {
     "data": {
      "image/png": "[encoded data removed]",
      "text/plain": [
       "<Figure size 1440x720 with 1 Axes>"
      ]
     },
     "metadata": {
      "needs_background": "light"
     },
     "output_type": "display_data"
    }
   ],
   "source": [
    "import matplotlib.pyplot as plt\n",
    "import pandas as pd\n",
    "\n",
    "df = pd.read_csv(\"diabetes.csv\")\n",
    "df.plot(kind ='Box' , figsize=(20,10))\n",
    "plt.show()"
   ]
  },
  {
   "cell_type": "code",
   "execution_count": 49,
   "metadata": {},
   "outputs": [
    {
     "name": "stdout",
     "output_type": "stream",
     "text": [
      "(764, 9)\n"
     ]
    }
   ],
   "source": [
    "df = df[df['SkinThickness'] < 80]\n",
    "df = df[df['Insulin'] <= 600]\n",
    "print(df.shape)"
   ]
  },
  {
   "cell_type": "code",
   "execution_count": 50,
   "metadata": {},
   "outputs": [
    {
     "name": "stdout",
     "output_type": "stream",
     "text": [
      "   Pregnancies  Glucose  BloodPressure  SkinThickness     Insulin       BMI  \\\n",
      "0            6    148.0      72.000000      35.000000   77.246073  33.60000   \n",
      "1            1     85.0      66.000000      29.000000   77.246073  26.60000   \n",
      "2            8    183.0      64.000000      20.390052   77.246073  23.30000   \n",
      "3            1     89.0      66.000000      23.000000   94.000000  28.10000   \n",
      "4            0    137.0      40.000000      35.000000  168.000000  43.10000   \n",
      "5            5    116.0      74.000000      20.390052   77.246073  25.60000   \n",
      "6            3     78.0      50.000000      32.000000   88.000000  31.00000   \n",
      "7           10    115.0      69.087696      20.390052   77.246073  35.30000   \n",
      "8            2    197.0      70.000000      45.000000  543.000000  30.50000   \n",
      "9            8    125.0      96.000000      20.390052   77.246073  31.95877   \n",
      "\n",
      "   DiabetesPedigreeFunction  Age  Outcome  \n",
      "0                     0.627   50        1  \n",
      "1                     0.351   31        0  \n",
      "2                     0.672   32        1  \n",
      "3                     0.167   21        0  \n",
      "4                     2.288   33        1  \n",
      "5                     0.201   30        0  \n",
      "6                     0.248   26        1  \n",
      "7                     0.134   29        0  \n",
      "8                     0.158   53        1  \n",
      "9                     0.232   54        1  \n"
     ]
    }
   ],
   "source": [
    "df.loc[df['Insulin'] == 0, 'Insulin'] = df['Insulin'].mean()\n",
    "df.loc[df['Glucose'] == 0, 'Glucose'] = df['Glucose'].mean()\n",
    "df.loc[df['BMI'] == 0, 'BMI'] = df['BMI'].mean()\n",
    "df.loc[df['BloodPressure'] == 0, 'BloodPressure'] = df['BloodPressure'].mean()\n",
    "df.loc[df['SkinThickness'] == 0, 'SkinThickness'] = df['SkinThickness'].mean()\n",
    "\n",
    "print(df.head(10))\n",
    "df. to_csv(\"CleanedData.csv\")"
   ]
  },
  {
   "cell_type": "code",
   "execution_count": 51,
   "metadata": {},
   "outputs": [
    {
     "name": "stdout",
     "output_type": "stream",
     "text": [
      "   Pregnancies   Glucose  BloodPressure  SkinThickness   Insulin       BMI  \\\n",
      "0     0.352941  0.743719       0.590164       0.555556  0.128743  0.500745   \n",
      "1     0.058824  0.427136       0.540984       0.460317  0.128743  0.396423   \n",
      "2     0.470588  0.919598       0.524590       0.323652  0.128743  0.347243   \n",
      "3     0.058824  0.447236       0.540984       0.365079  0.156667  0.418778   \n",
      "4     0.000000  0.688442       0.327869       0.555556  0.280000  0.642325   \n",
      "\n",
      "   DiabetesPedigreeFunction       Age  Outcome  \n",
      "0                  0.259091  0.617284      1.0  \n",
      "1                  0.145041  0.382716      0.0  \n",
      "2                  0.277686  0.395062      1.0  \n",
      "3                  0.069008  0.259259      0.0  \n",
      "4                  0.945455  0.407407      1.0  \n"
     ]
    }
   ],
   "source": [
    "df = df/df.max()\n",
    "print(df.head(5))\n",
    "df.to_csv(\"Normalized.csv\")"
   ]
  },
  {
   "cell_type": "code",
   "execution_count": 60,
   "metadata": {},
   "outputs": [
    {
     "name": "stdout",
     "output_type": "stream",
     "text": [
      "0.7922077922077922\n"
     ]
    }
   ],
   "source": [
    "from sklearn.model_selection import train_test_split\n",
    "from sklearn.linear_model import LogisticRegression\n",
    "from sklearn.metrics import accuracy_score\n",
    "\n",
    "\n",
    "X = df.iloc[:,0:-1]\n",
    "y = df.iloc[:,-1]\n",
    "\n",
    "\n",
    "X_train, X_test, y_train, y_test = train_test_split(X,y, test_size = 0.2)\n",
    "model = LogisticRegression()\n",
    "model.fit(X_train, y_train) #the model gets trained using this st\n",
    "\n",
    "#used for predicting unseen data\n",
    "prediction = model.predict(X_test)\n",
    "\n",
    "#used for calculatomg the accuracy of our model\n",
    "acc = accuracy_score(y_test, prediction)\n",
    "print(acc)\n"
   ]
  },
  {
   "cell_type": "code",
   "execution_count": 59,
   "metadata": {},
   "outputs": [
    {
     "name": "stdout",
     "output_type": "stream",
     "text": [
      "0.7857142857142857\n"
     ]
    }
   ],
   "source": [
    "from sklearn.model_selection import train_test_split\n",
    "from sklearn.linear_model import LogisticRegression\n",
    "from sklearn.metrics import accuracy_score\n",
    "\n",
    "df = pd.read_csv(\"diabetes.csv\")\n",
    "X = df.iloc[:,0:-1]\n",
    "y = df.iloc[:,-1]\n",
    "\n",
    "\n",
    "X_train, X_test, y_train, y_test = train_test_split(X,y, test_size = 0.2)\n",
    "model = LogisticRegression()\n",
    "model.fit(X_train, y_train) #the model gets trained using this st\n",
    "\n",
    "#used for predicting unseen data\n",
    "prediction = model.predict(X_test)\n",
    "\n",
    "#used for calculatomg the accuracy of our model\n",
    "acc = accuracy_score(y_test, prediction)\n",
    "print(acc)\n"
   ]
  },
  {
   "cell_type": "code",
   "execution_count": null,
   "metadata": {},
   "outputs": [],
   "source": []
  },
  {
   "cell_type": "code",
   "execution_count": null,
   "metadata": {},
   "outputs": [],
   "source": []
  }
 ],
 "metadata": {
  "kernelspec": {
   "display_name": "Python 3",
   "language": "python",
   "name": "python3"
  },
  "language_info": {
   "codemirror_mode": {
    "name": "ipython",
    "version": 3
   },
   "file_extension": ".py",
   "mimetype": "text/x-python",
   "name": "python",
   "nbconvert_exporter": "python",
   "pygments_lexer": "ipython3",
   "version": "3.7.3"
  }
 },
 "nbformat": 4,
 "nbformat_minor": 2
}
